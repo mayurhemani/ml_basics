{
 "cells": [
  {
   "cell_type": "code",
   "execution_count": 1,
   "metadata": {},
   "outputs": [],
   "source": [
    "import numpy as np\n",
    "import sys\n",
    "import math\n",
    "import re"
   ]
  },
  {
   "cell_type": "code",
   "execution_count": 1,
   "metadata": {},
   "outputs": [],
   "source": [
    "TRAINING_FILE = \"textclassification_training.csv\"\n",
    "TESTING_FILE = \"textclassification_testing.csv\"\n",
    "\n",
    "def read_csv(filepath):\n",
    "    arr = []\n",
    "    with open(filepath) as fd:\n",
    "        for line in fd:\n",
    "            arr.append(line.strip().split(\",\"))\n",
    "    return arr\n",
    "\n",
    "def read_data(training=True):\n",
    "    if training:\n",
    "        return read_csv(TRAINING_FILE)\n",
    "    return read_csv(TESTING_FILE)"
   ]
  },
  {
   "cell_type": "code",
   "execution_count": 3,
   "metadata": {},
   "outputs": [
    {
     "name": "stdout",
     "output_type": "stream",
     "text": [
      "100001\n"
     ]
    }
   ],
   "source": [
    "def word_histogram(aaWords):\n",
    "    words = {}\n",
    "    for line in aaWords:\n",
    "        aWords = [x for x in re.split(\"\\W\", line.strip()) if x != \"\"]\n",
    "        for word in aWords:\n",
    "            if words.has_key(word):\n",
    "                words[word] += 1\n",
    "            else:\n",
    "                words[word] = 1\n",
    "    return words\n",
    "\n"
   ]
  }
 ],
 "metadata": {
  "kernelspec": {
   "display_name": "Python 2",
   "language": "python",
   "name": "python2"
  },
  "language_info": {
   "codemirror_mode": {
    "name": "ipython",
    "version": 2
   },
   "file_extension": ".py",
   "mimetype": "text/x-python",
   "name": "python",
   "nbconvert_exporter": "python",
   "pygments_lexer": "ipython2",
   "version": "2.7.14"
  }
 },
 "nbformat": 4,
 "nbformat_minor": 2
}
